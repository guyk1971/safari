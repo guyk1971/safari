{
 "cells": [
  {
   "cell_type": "markdown",
   "metadata": {},
   "source": [
    "# Synthetic Benchmark EDA\n",
    "the goal of the notebook is to explore the datasets used for synthetic benchmarks"
   ]
  },
  {
   "cell_type": "code",
   "execution_count": 11,
   "metadata": {},
   "outputs": [
    {
     "name": "stdout",
     "output_type": "stream",
     "text": [
      "/home/gkoren/scratch/code/github/guyk1971/safari\n",
      "cuda\n"
     ]
    }
   ],
   "source": [
    "import os\n",
    "import torch\n",
    "from torch.utils.data import TensorDataset, Dataset, DataLoader\n",
    "from typing import Dict\n",
    "import numpy as np\n",
    "from tqdm import tqdm\n",
    "from collections import Counter\n",
    "\n",
    "root_path = os.path.abspath('..')\n",
    "print(root_path)\n",
    "device = \"cuda\" if torch.cuda.is_available() else \"cpu\"\n",
    "print(device)"
   ]
  },
  {
   "cell_type": "markdown",
   "metadata": {},
   "source": [
    "## Associative recall"
   ]
  },
  {
   "cell_type": "code",
   "execution_count": 12,
   "metadata": {},
   "outputs": [
    {
     "data": {
      "text/plain": [
       "['save_test_assoc_recall_4000_30_131072.pt',\n",
       " 'train_assoc_recall_4000_60_256.pt',\n",
       " 'test_assoc_recall_4000_60_256.pt',\n",
       " 'train_assoc_recall_4000_100_256.pt',\n",
       " 'test_assoc_recall_4000_100_256.pt',\n",
       " 'train_assoc_recall_4000_100_4096.pt',\n",
       " 'test_assoc_recall_4000_100_4096.pt',\n",
       " 'train_assoc_recall_4000_80_1024.pt',\n",
       " 'test_assoc_recall_4000_80_1024.pt',\n",
       " 'train_assoc_recall_4000_80_4096.pt',\n",
       " 'test_assoc_recall_4000_80_4096.pt',\n",
       " 'train_assoc_recall_4000_30_1024.pt',\n",
       " 'test_assoc_recall_4000_30_1024.pt',\n",
       " 'train_assoc_recall_4000_70_1024.pt',\n",
       " 'test_assoc_recall_4000_70_1024.pt',\n",
       " 'train_assoc_recall_4000_70_4096.pt',\n",
       " 'test_assoc_recall_4000_70_4096.pt',\n",
       " 'train_assoc_recall_4000_30_4096.pt',\n",
       " 'test_assoc_recall_4000_30_4096.pt',\n",
       " 'train_assoc_recall_4000_30_512.pt',\n",
       " 'test_assoc_recall_4000_30_512.pt',\n",
       " 'train_assoc_recall_4000_60_4096.pt',\n",
       " 'test_assoc_recall_4000_60_4096.pt',\n",
       " 'save_train_assoc_recall_4000_30_131072.pt']"
      ]
     },
     "execution_count": 12,
     "metadata": {},
     "output_type": "execute_result"
    }
   ],
   "source": [
    "data_root_path=os.path.join(root_path,'datasets','assoc_recall')\n",
    "ds_files = [f for f in os.listdir(data_root_path) if f.endswith('.pt')]\n",
    "ds_files"
   ]
  },
  {
   "cell_type": "code",
   "execution_count": 13,
   "metadata": {},
   "outputs": [
    {
     "name": "stdout",
     "output_type": "stream",
     "text": [
      "torch.Size([4000, 2, 4098])\n",
      "torch.Size([500, 2, 4098])\n"
     ]
    }
   ],
   "source": [
    "# load a dataset\n",
    "num_examples=4000\n",
    "vocab_size=60\n",
    "input_seq_len=4096\n",
    "train_tensor = torch.load(os.path.join(data_root_path, \n",
    "    f\"train_assoc_recall_{num_examples}_{vocab_size}_{input_seq_len}.pt\"))\n",
    "test_tensor = torch.load(os.path.join(data_root_path, \n",
    "    f\"test_assoc_recall_{num_examples}_{vocab_size}_{input_seq_len}.pt\"))\n",
    "\n",
    "print(train_tensor.shape)\n",
    "print(test_tensor.shape)"
   ]
  },
  {
   "cell_type": "code",
   "execution_count": 14,
   "metadata": {},
   "outputs": [
    {
     "name": "stdout",
     "output_type": "stream",
     "text": [
      "the portion of training set samples in which the query appeared in the prompt is 1.0\n",
      "the portion of training set samples in which the query appeared in the prompt is 1.0\n"
     ]
    }
   ],
   "source": [
    "# we need to check if there is an example where the last element in the sample is appearing for the 1st time\n",
    "cond_trn=[t[0,-1] in t[0,:-1] for t in train_tensor]\n",
    "print(f'the portion of training set samples in which the query appeared in the prompt is {np.sum(cond_trn)/len(cond_trn)}')\n",
    "\n",
    "cond_tst=[t[0,-1] in t[0,:-1] for t in test_tensor]\n",
    "print(f'the portion of training set samples in which the query appeared in the prompt is {np.sum(cond_tst)/len(cond_tst)}')\n"
   ]
  },
  {
   "cell_type": "code",
   "execution_count": 5,
   "metadata": {},
   "outputs": [
    {
     "data": {
      "text/plain": [
       "tensor([23, 49,  8, 42,  7, 34, 26, 47,  4, 44, 20, 44,  3, 57,  7, 34, 10, 36,\n",
       "        18, 52,  4, 44, 28, 57, 21, 42, 21, 42, 29, 51, 29, 51, 19, 40, 25, 51,\n",
       "         5, 50, 17, 34, 15, 41, 28, 57, 23, 49,  3, 57, 14, 33, 19, 40, 24, 49,\n",
       "        24, 49, 11, 54, 12, 56,  6, 54, 28, 57, 27, 30, 15, 41, 13, 30, 20, 44,\n",
       "        29, 51,  3, 57, 29, 51,  2, 35,  5, 50,  2, 35, 15, 41, 16, 34, 27, 30,\n",
       "         9, 51, 11, 54, 25, 51, 10, 36, 21, 42,  9, 51, 22, 35, 26, 47,  4, 44,\n",
       "        12, 56, 20, 44, 16, 34,  3, 57, 21, 42, 22, 35, 25, 51, 24, 49,  1, 35,\n",
       "        14, 33,  8, 42, 16, 34, 20, 44,  7, 34, 17, 34, 15, 41, 12, 56, 18, 52,\n",
       "         5, 50,  7, 34,  2, 35, 10, 36, 20, 44,  5, 50, 10, 36, 27, 30, 14, 33,\n",
       "        23, 49,  1, 35, 19, 40,  7, 34,  1, 35,  7, 34, 28, 57, 22, 35, 16, 34,\n",
       "        10, 36, 22, 35, 26, 47,  7, 34, 24, 49, 16, 34,  5, 50, 27, 30,  1, 35,\n",
       "        13, 30, 15, 41,  1, 35, 16, 34,  8, 42, 25, 51, 24, 49, 13, 30, 21, 42,\n",
       "         6, 54, 13, 30, 18, 52,  3, 57,  4, 44, 21, 42, 11, 54, 19, 40, 15, 41,\n",
       "        25, 51, 19, 40, 13, 30, 25, 51,  1, 35, 22, 35, 11, 54, 13, 30, 25, 51,\n",
       "        29, 51, 19, 40, 59, 28])"
      ]
     },
     "execution_count": 5,
     "metadata": {},
     "output_type": "execute_result"
    }
   ],
   "source": [
    "train_tensor[0,0,:]"
   ]
  }
 ],
 "metadata": {
  "kernelspec": {
   "display_name": "Python 3 (ipykernel)",
   "language": "python",
   "name": "python3"
  },
  "language_info": {
   "codemirror_mode": {
    "name": "ipython",
    "version": 3
   },
   "file_extension": ".py",
   "mimetype": "text/x-python",
   "name": "python",
   "nbconvert_exporter": "python",
   "pygments_lexer": "ipython3",
   "version": "3.10.12"
  }
 },
 "nbformat": 4,
 "nbformat_minor": 2
}
